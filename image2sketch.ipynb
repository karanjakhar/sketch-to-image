{
 "cells": [
  {
   "cell_type": "code",
   "execution_count": null,
   "metadata": {},
   "outputs": [],
   "source": [
    "import cv2\n",
    "import matplotlib.pyplot as plt\n",
    "import os\n",
    "import matplotlib\n",
    "import tqdm\n",
    "from multiprocessing import Pool\n",
    "from multiprocessing import cpu_count\n"
   ]
  },
  {
   "cell_type": "code",
   "execution_count": null,
   "metadata": {},
   "outputs": [],
   "source": [
    "image_path = './celeb'\n",
    "sketch_path = './celeb_sketch_temp'"
   ]
  },
  {
   "cell_type": "code",
   "execution_count": null,
   "metadata": {},
   "outputs": [],
   "source": [
    "def burnV2(image, mask):\n",
    "    return 255 - cv2.divide(255-image, 255-mask, scale=256)"
   ]
  },
  {
   "cell_type": "code",
   "execution_count": null,
   "metadata": {},
   "outputs": [],
   "source": [
    "def dodgeV2(image, mask):\n",
    "    return cv2.divide(image, 255-mask, scale=256)"
   ]
  },
  {
   "cell_type": "code",
   "execution_count": null,
   "metadata": {},
   "outputs": [],
   "source": [
    "def img_to_sketch(img_names):\n",
    "    for img in tqdm.tqdm_notebook(img_names):\n",
    "        img_rgb = cv2.imread(image_path+'/'+img)\n",
    "        img_gray = cv2.cvtColor(img_rgb, cv2.COLOR_BGR2GRAY)\n",
    "        img_gray_inv = 255 - img_gray\n",
    "        img_blur = cv2.GaussianBlur(img_gray_inv, ksize=(21, 21),\n",
    "                            sigmaX=0, sigmaY=0)\n",
    "        img_blend = dodgeV2(img_gray, img_blur)\n",
    "        matplotlib.image.imsave(sketch_path+'/'+img, img_blend,cmap='gray')\n",
    "        #plt.imshow( img_blend,cmap='gray')\n",
    "        #plt.show()\n",
    "        \n",
    "        \n",
    "        "
   ]
  },
  {
   "cell_type": "code",
   "execution_count": null,
   "metadata": {},
   "outputs": [],
   "source": [
    "img_names = os.listdir('./celeb')"
   ]
  },
  {
   "cell_type": "code",
   "execution_count": null,
   "metadata": {},
   "outputs": [],
   "source": [
    "img_rgb = cv2.imread('mypic.jpg')\n",
    "img_gray = cv2.cvtColor(img_rgb, cv2.COLOR_BGR2GRAY)\n",
    "img_gray_inv = 255 - img_gray\n",
    "img_blur = cv2.GaussianBlur(img_gray_inv, ksize=(21, 21),sigmaX=0, sigmaY=0)\n",
    "img_blend = dodgeV2(img_gray, img_blur)\n",
    "matplotlib.image.imsave('mypic_s.jpg', img_blend,cmap='gray')"
   ]
  },
  {
   "cell_type": "code",
   "execution_count": null,
   "metadata": {},
   "outputs": [],
   "source": [
    "print(\"[INFO] launching pool using {} processes...\".format(8))\n",
    "pool = Pool(processes=8)\n",
    "pool.map(img_to_sketch(img_names))\n",
    "# close the pool and wait for all processes to finish\n",
    "print(\"[INFO] waiting for processes to finish...\")\n",
    "pool.close()\n",
    "pool.join()\n",
    "print(\"[INFO] multiprocessing complete\")"
   ]
  },
  {
   "cell_type": "code",
   "execution_count": null,
   "metadata": {},
   "outputs": [],
   "source": [
    "# img_rgb = cv2.imread(\"./jpg/i049sa-mn.jpg\")\n",
    "img_gray = cv2.cvtColor(img_rgb, cv2.COLOR_BGR2GRAY)\n",
    "img_gray_inv = 255 - img_gray\n",
    "img_blur = cv2.GaussianBlur(img_gray_inv, ksize=(21, 21),sigmaX=0, sigmaY=0)\n",
    "img_blend = dodgeV2(img_gray, img_blur)\n",
    "plt.imshow( img_blend,cmap='gray')\n",
    "plt.show()"
   ]
  }
 ],
 "metadata": {
  "kernelspec": {
   "display_name": "Python 3",
   "language": "python",
   "name": "python3"
  },
  "language_info": {
   "codemirror_mode": {
    "name": "ipython",
    "version": 3
   },
   "file_extension": ".py",
   "mimetype": "text/x-python",
   "name": "python",
   "nbconvert_exporter": "python",
   "pygments_lexer": "ipython3",
   "version": "3.7.5"
  }
 },
 "nbformat": 4,
 "nbformat_minor": 2
}
